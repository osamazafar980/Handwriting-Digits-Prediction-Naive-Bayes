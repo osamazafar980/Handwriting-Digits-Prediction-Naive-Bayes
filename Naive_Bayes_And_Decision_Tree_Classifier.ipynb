{
  "nbformat": 4,
  "nbformat_minor": 0,
  "metadata": {
    "colab": {
      "name": "Naive Bayes.ipynb",
      "provenance": [],
      "collapsed_sections": [],
      "authorship_tag": "ABX9TyNhiOsOfNHaQ7w2Vuxh+Pn0",
      "include_colab_link": true
    },
    "kernelspec": {
      "name": "python3",
      "display_name": "Python 3"
    }
  },
  "cells": [
    {
      "cell_type": "markdown",
      "metadata": {
        "id": "view-in-github",
        "colab_type": "text"
      },
      "source": [
        "<a href=\"https://colab.research.google.com/github/osamazafar980/Handwriting-Digits-Prediction-Naive-Bayes/blob/master/Naive_Bayes_And_Decision_Tree_Classifier.ipynb\" target=\"_parent\"><img src=\"https://colab.research.google.com/assets/colab-badge.svg\" alt=\"Open In Colab\"/></a>"
      ]
    },
    {
      "cell_type": "markdown",
      "metadata": {
        "id": "UNPZgcTdspYK",
        "colab_type": "text"
      },
      "source": [
        "Importing Libraries"
      ]
    },
    {
      "cell_type": "code",
      "metadata": {
        "id": "ytZaNWWFsu7R",
        "colab_type": "code",
        "colab": {}
      },
      "source": [
        "import matplotlib.pyplot as plt\n",
        "import numpy as np\n",
        "from sklearn.datasets import fetch_openml\n",
        "%matplotlib inline"
      ],
      "execution_count": 0,
      "outputs": []
    },
    {
      "cell_type": "markdown",
      "metadata": {
        "id": "XcyUh-Ssph9A",
        "colab_type": "text"
      },
      "source": [
        "# Preparing Dataset\n"
      ]
    },
    {
      "cell_type": "code",
      "metadata": {
        "id": "lEv31aNuptkk",
        "colab_type": "code",
        "outputId": "1b04121d-458c-4d02-b264-b75725d4ab2c",
        "colab": {
          "base_uri": "https://localhost:8080/",
          "height": 498
        }
      },
      "source": [
        "mnist = fetch_openml('mnist_784', version=1)\n",
        "x = mnist['data']\n",
        "y = mnist['target']\n",
        "print(x.dtype, y.dtype)\n",
        "print(x.shape,y.shape)\n",
        "\n",
        "#Ploting Data\n",
        "\n",
        "def plot_images(images , labels):\n",
        "  n_cols = min(5,len(images))\n",
        "  n_rows = len(images)//n_cols\n",
        "  fig = plt.figure(figsize=(8,8))\n",
        "\n",
        "  for i  in range (n_rows * n_cols):\n",
        "    sp = fig.add_subplot(n_rows,n_cols,i+1)\n",
        "    plt.axis(\"off\")\n",
        "    plt.imshow(images[i], cmap=plt.cm.gray)\n",
        "    sp.set_title(labels[i])\n",
        "  plt.show()\n",
        "\n",
        "p = np.random.permutation(len(x))\n",
        "p = p[:20]\n",
        "plot_images(x[p].reshape(-1,28,28),y[p])\n",
        "\n"
      ],
      "execution_count": 2,
      "outputs": [
        {
          "output_type": "stream",
          "text": [
            "float64 object\n",
            "(70000, 784) (70000,)\n"
          ],
          "name": "stdout"
        },
        {
          "output_type": "display_data",
          "data": {
            "image/png": "[encoded data removed]",
            "text/plain": [
              "<Figure size 576x576 with 20 Axes>"
            ]
          },
          "metadata": {
            "tags": []
          }
        }
      ]
    },
    {
      "cell_type": "code",
      "metadata": {
        "id": "OGJLrtMf2eVU",
        "colab_type": "code",
        "outputId": "628a4179-029d-4143-a3ab-bb2a4559a70f",
        "colab": {
          "base_uri": "https://localhost:8080/",
          "height": 50
        }
      },
      "source": [
        "y=y.astype(\"int32\")\n",
        "x = x/255.0\n",
        "from sklearn.model_selection import train_test_split\n",
        "tx,tesx,ty,tesy = train_test_split(x,y, test_size=0.15)\n",
        "print(\"Training Data Shape : \",tx.shape,\"\\nTesting Data Shape : \",tesx.shape)"
      ],
      "execution_count": 15,
      "outputs": [
        {
          "output_type": "stream",
          "text": [
            "Training Data Shape :  (59500, 784) \n",
            "Testing Data Shape :  (10500, 784)\n"
          ],
          "name": "stdout"
        }
      ]
    },
    {
      "cell_type": "markdown",
      "metadata": {
        "id": "F_C-dC9r3k4U",
        "colab_type": "text"
      },
      "source": [
        "\n",
        "\n",
        "Training Naive Bayes Classifier Model"
      ]
    },
    {
      "cell_type": "code",
      "metadata": {
        "id": "FkkF0peX3nj9",
        "colab_type": "code",
        "outputId": "7e45d0d9-4836-456e-edb8-681ca544ca34",
        "colab": {
          "base_uri": "https://localhost:8080/",
          "height": 34
        }
      },
      "source": [
        "from sklearn.naive_bayes import BernoulliNB\n",
        "\n",
        "cls = BernoulliNB()\n",
        "cls.fit(tx,ty)\n"
      ],
      "execution_count": 26,
      "outputs": [
        {
          "output_type": "execute_result",
          "data": {
            "text/plain": [
              "BernoulliNB(alpha=1.0, binarize=0.0, class_prior=None, fit_prior=True)"
            ]
          },
          "metadata": {
            "tags": []
          },
          "execution_count": 26
        }
      ]
    },
    {
      "cell_type": "markdown",
      "metadata": {
        "id": "_MGcAZhH341F",
        "colab_type": "text"
      },
      "source": [
        "Evaluation"
      ]
    },
    {
      "cell_type": "code",
      "metadata": {
        "id": "e02XPp7P365d",
        "colab_type": "code",
        "outputId": "292a5d29-ee1b-44fc-8f4a-e5a6af1c8259",
        "colab": {
          "base_uri": "https://localhost:8080/",
          "height": 588
        }
      },
      "source": [
        "print(\"Testing Accuracy Score: \",cls.score(tesx,tesy))\n",
        "from sklearn.metrics import classification_report\n",
        "from sklearn.metrics import confusion_matrix\n",
        "pre = cls.predict(tesx)\n",
        "print(\"\\n\\nClassification Report\")\n",
        "print(classification_report(tesy,pre))\n",
        "print(\"\\n\\nConfusion metrics\")\n",
        "print(confusion_matrix(tesy,pre))\n",
        "\n"
      ],
      "execution_count": 27,
      "outputs": [
        {
          "output_type": "stream",
          "text": [
            "Testing Accuracy Score:  0.8322857142857143\n",
            "\n",
            "\n",
            "Classification Report\n",
            "              precision    recall  f1-score   support\n",
            "\n",
            "           0       0.92      0.88      0.90      1017\n",
            "           1       0.87      0.96      0.91      1210\n",
            "           2       0.87      0.83      0.85      1046\n",
            "           3       0.77      0.81      0.79      1071\n",
            "           4       0.82      0.79      0.81      1067\n",
            "           5       0.80      0.70      0.75       934\n",
            "           6       0.88      0.90      0.89      1058\n",
            "           7       0.92      0.82      0.87      1051\n",
            "           8       0.78      0.78      0.78      1017\n",
            "           9       0.72      0.81      0.76      1029\n",
            "\n",
            "    accuracy                           0.83     10500\n",
            "   macro avg       0.83      0.83      0.83     10500\n",
            "weighted avg       0.83      0.83      0.83     10500\n",
            "\n",
            "\n",
            "\n",
            "Confusion metrics\n",
            "[[ 892    0    6    7    3   55   21    0   33    0]\n",
            " [   0 1163   10    3    0   10    7    1   12    4]\n",
            " [  13   14  873   26   26    4   45    8   34    3]\n",
            " [  10   25   48  864    2   21   11    9   48   33]\n",
            " [   2   11    8    0  847    8   26    5   20  140]\n",
            " [  23   14   10  141   26  653   19    6   19   23]\n",
            " [   7   41   16    0    4   31  952    0    6    1]\n",
            " [   3   29   12    3   29    0    1  864   27   83]\n",
            " [  11   28   18   68   17   29    4    2  797   43]\n",
            " [  11   18    3   13   79    7    0   41   23  834]]\n"
          ],
          "name": "stdout"
        }
      ]
    },
    {
      "cell_type": "markdown",
      "metadata": {
        "id": "30V5Vu1SeR2q",
        "colab_type": "text"
      },
      "source": [
        "Decision Tree Classifier\n"
      ]
    },
    {
      "cell_type": "code",
      "metadata": {
        "id": "RYMMTP79eUgG",
        "colab_type": "code",
        "colab": {
          "base_uri": "https://localhost:8080/",
          "height": 1000
        },
        "outputId": "d5489819-6702-47dd-f9f4-c5b33de77d01"
      },
      "source": [
        "from sklearn.tree import DecisionTreeClassifier\n",
        "clf = DecisionTreeClassifier(random_state=0)\n",
        "clf.fit(tx,ty)\n",
        "print(\"Testing Accuracy Score: \",clf.score(tesx,tesy))\n",
        "from sklearn.metrics import classification_report\n",
        "pre = clf.predict(tesx)\n",
        "print(\"\\n\\nClassification Report\")\n",
        "print(classification_report(tesy,pre))\n",
        "print(\"\\n\\nConfusion metrics\")\n",
        "print(confusion_matrix(tesy,pre))\n",
        "matrix = confusion_matrix(tesy,pre)\n",
        "\n",
        "figurePlot = plt.figure(figsize=(10,10))\n",
        "axis = figurePlot.add_subplot(111)\n",
        "axis.set_title('Confusion Matrix')\n",
        "plt.imshow(matrix)\n",
        "plt.show()"
      ],
      "execution_count": 35,
      "outputs": [
        {
          "output_type": "stream",
          "text": [
            "Testing Accuracy Score:  0.8671428571428571\n",
            "\n",
            "\n",
            "Classification Report\n",
            "              precision    recall  f1-score   support\n",
            "\n",
            "           0       0.92      0.92      0.92      1017\n",
            "           1       0.94      0.96      0.95      1210\n",
            "           2       0.85      0.85      0.85      1046\n",
            "           3       0.84      0.83      0.84      1071\n",
            "           4       0.85      0.86      0.86      1067\n",
            "           5       0.84      0.81      0.82       934\n",
            "           6       0.93      0.92      0.93      1058\n",
            "           7       0.89      0.87      0.88      1051\n",
            "           8       0.80      0.79      0.80      1017\n",
            "           9       0.81      0.85      0.83      1029\n",
            "\n",
            "    accuracy                           0.87     10500\n",
            "   macro avg       0.87      0.87      0.87     10500\n",
            "weighted avg       0.87      0.87      0.87     10500\n",
            "\n",
            "\n",
            "\n",
            "Confusion metrics\n",
            "[[ 935    2   13   10    6   11   13    3   17    7]\n",
            " [   0 1156    8    9    5    4    7    3   11    7]\n",
            " [  17   14  885   39   15   10   13   18   25   10]\n",
            " [   8    8   44  892    6   44    4   13   36   16]\n",
            " [  13    6   13   13  916    8   10   14   25   49]\n",
            " [  12    5   12   34   16  754   16   13   42   30]\n",
            " [  14    8   12    4    8   23  973    2   12    2]\n",
            " [   5   11   11   14   24    6    2  911   14   53]\n",
            " [   9   24   39   32   29   27    5   11  808   33]\n",
            " [   7    2    2   16   47   13    2   41   24  875]]\n"
          ],
          "name": "stdout"
        },
        {
          "output_type": "display_data",
          "data": {
            "image/png": "[encoded data removed]",
            "text/plain": [
              "<Figure size 720x720 with 1 Axes>"
            ]
          },
          "metadata": {
            "tags": []
          }
        }
      ]
    }
  ]
}