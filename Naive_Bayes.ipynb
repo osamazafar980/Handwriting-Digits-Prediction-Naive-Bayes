{
  "nbformat": 4,
  "nbformat_minor": 0,
  "metadata": {
    "colab": {
      "name": "Naive Bayes.ipynb",
      "provenance": [],
      "authorship_tag": "ABX9TyN50IGHqWpzzXaChRs/msOy",
      "include_colab_link": true
    },
    "kernelspec": {
      "name": "python3",
      "display_name": "Python 3"
    }
  },
  "cells": [
    {
      "cell_type": "markdown",
      "metadata": {
        "id": "view-in-github",
        "colab_type": "text"
      },
      "source": [
        "<a href=\"https://colab.research.google.com/github/osamazafar980/Handwriting-Digits-Prediction-Naive-Bayes/blob/master/Naive_Bayes.ipynb\" target=\"_parent\"><img src=\"https://colab.research.google.com/assets/colab-badge.svg\" alt=\"Open In Colab\"/></a>"
      ]
    },
    {
      "cell_type": "markdown",
      "metadata": {
        "id": "UNPZgcTdspYK",
        "colab_type": "text"
      },
      "source": [
        "Importing Libraries"
      ]
    },
    {
      "cell_type": "code",
      "metadata": {
        "id": "ytZaNWWFsu7R",
        "colab_type": "code",
        "colab": {}
      },
      "source": [
        "import matplotlib.pyplot as plt\n",
        "import numpy as np\n",
        "from sklearn.datasets import fetch_openml\n",
        "%matplotlib inline"
      ],
      "execution_count": 0,
      "outputs": []
    },
    {
      "cell_type": "markdown",
      "metadata": {
        "id": "XcyUh-Ssph9A",
        "colab_type": "text"
      },
      "source": [
        "# Preparing Dataset\n"
      ]
    },
    {
      "cell_type": "code",
      "metadata": {
        "id": "lEv31aNuptkk",
        "colab_type": "code",
        "colab": {
          "base_uri": "https://localhost:8080/",
          "height": 498
        },
        "outputId": "8b19ff23-18ed-42c9-90f8-43cf72743848"
      },
      "source": [
        "mnist = fetch_openml('mnist_784', version=1)\n",
        "x = mnist['data']\n",
        "y = mnist['target']\n",
        "print(x.dtype, y.dtype)\n",
        "print(x.shape,y.shape)\n",
        "\n",
        "#Ploting Data\n",
        "\n",
        "def plot_images(images , labels):\n",
        "  n_cols = min(5,len(images))\n",
        "  n_rows = len(images)//n_cols\n",
        "  fig = plt.figure(figsize=(8,8))\n",
        "\n",
        "  for i  in range (n_rows * n_cols):\n",
        "    sp = fig.add_subplot(n_rows,n_cols,i+1)\n",
        "    plt.axis(\"off\")\n",
        "    plt.imshow(images[i], cmap=plt.cm.gray)\n",
        "    sp.set_title(labels[i])\n",
        "  plt.show()\n",
        "\n",
        "p = np.random.permutation(len(x))\n",
        "p = p[:20]\n",
        "plot_images(x[p].reshape(-1,28,28),y[p])\n",
        "\n"
      ],
      "execution_count": 20,
      "outputs": [
        {
          "output_type": "stream",
          "text": [
            "float64 object\n",
            "(70000, 784) (70000,)\n"
          ],
          "name": "stdout"
        },
        {
          "output_type": "display_data",
          "data": {
            "image/png": "[encoded data removed]",
            "text/plain": [
              "<Figure size 576x576 with 20 Axes>"
            ]
          },
          "metadata": {
            "tags": []
          }
        }
      ]
    },
    {
      "cell_type": "code",
      "metadata": {
        "id": "OGJLrtMf2eVU",
        "colab_type": "code",
        "colab": {
          "base_uri": "https://localhost:8080/",
          "height": 34
        },
        "outputId": "8da18033-ae1e-4ef5-b8fb-a2398c8c928e"
      },
      "source": [
        "y=y.astype(\"int32\")\n",
        "x = x/255.0\n",
        "\n",
        "from sklearn.model_selection import train_test_split\n",
        "tx,tesx,ty,tesy = train_test_split(x,y)\n",
        "tx.shape,tesx.shape"
      ],
      "execution_count": 33,
      "outputs": [
        {
          "output_type": "execute_result",
          "data": {
            "text/plain": [
              "((52500, 784), (17500, 784))"
            ]
          },
          "metadata": {
            "tags": []
          },
          "execution_count": 33
        }
      ]
    },
    {
      "cell_type": "markdown",
      "metadata": {
        "id": "F_C-dC9r3k4U",
        "colab_type": "text"
      },
      "source": [
        "Training Model"
      ]
    },
    {
      "cell_type": "code",
      "metadata": {
        "id": "FkkF0peX3nj9",
        "colab_type": "code",
        "colab": {
          "base_uri": "https://localhost:8080/",
          "height": 34
        },
        "outputId": "76e525b7-0335-4a66-f1ff-8507411c4efd"
      },
      "source": [
        "from sklearn.naive_bayes import BernoulliNB\n",
        "\n",
        "cls = BernoulliNB()\n",
        "cls.fit(tx,ty)\n"
      ],
      "execution_count": 43,
      "outputs": [
        {
          "output_type": "execute_result",
          "data": {
            "text/plain": [
              "BernoulliNB(alpha=1.0, binarize=0.0, class_prior=None, fit_prior=True)"
            ]
          },
          "metadata": {
            "tags": []
          },
          "execution_count": 43
        }
      ]
    },
    {
      "cell_type": "markdown",
      "metadata": {
        "id": "_MGcAZhH341F",
        "colab_type": "text"
      },
      "source": [
        "Evaluation"
      ]
    },
    {
      "cell_type": "code",
      "metadata": {
        "id": "e02XPp7P365d",
        "colab_type": "code",
        "colab": {
          "base_uri": "https://localhost:8080/",
          "height": 319
        },
        "outputId": "c7f3ab56-6024-448f-b17f-17dc4fb661d4"
      },
      "source": [
        "print(cls.score(tesx,tesy))\n",
        "from sklearn.metrics import classification_report\n",
        "pre = cls.predict(tesx)\n",
        "print(classification_report(tesy,pre))\n"
      ],
      "execution_count": 44,
      "outputs": [
        {
          "output_type": "stream",
          "text": [
            "0.8305714285714285\n",
            "              precision    recall  f1-score   support\n",
            "\n",
            "           0       0.92      0.89      0.91      1784\n",
            "           1       0.87      0.95      0.91      1920\n",
            "           2       0.86      0.82      0.84      1753\n",
            "           3       0.75      0.80      0.78      1817\n",
            "           4       0.82      0.80      0.81      1640\n",
            "           5       0.79      0.69      0.74      1550\n",
            "           6       0.90      0.90      0.90      1720\n",
            "           7       0.91      0.84      0.88      1840\n",
            "           8       0.77      0.76      0.77      1723\n",
            "           9       0.73      0.82      0.77      1753\n",
            "\n",
            "    accuracy                           0.83     17500\n",
            "   macro avg       0.83      0.83      0.83     17500\n",
            "weighted avg       0.83      0.83      0.83     17500\n",
            "\n"
          ],
          "name": "stdout"
        }
      ]
    }
  ]
}